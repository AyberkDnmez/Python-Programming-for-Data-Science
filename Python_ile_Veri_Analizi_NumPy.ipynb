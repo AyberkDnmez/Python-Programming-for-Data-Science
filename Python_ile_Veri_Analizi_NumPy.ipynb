{
  "nbformat": 4,
  "nbformat_minor": 0,
  "metadata": {
    "colab": {
      "provenance": [],
      "authorship_tag": "ABX9TyOqAM2ZHmIFFb+p5sfsDRci",
      "include_colab_link": true
    },
    "kernelspec": {
      "name": "python3",
      "display_name": "Python 3"
    },
    "language_info": {
      "name": "python"
    }
  },
  "cells": [
    {
      "cell_type": "markdown",
      "metadata": {
        "id": "view-in-github",
        "colab_type": "text"
      },
      "source": [
        "<a href=\"https://colab.research.google.com/github/AyberkDnmez/Python-Programming-for-Data-Science/blob/main/Python_ile_Veri_Analizi_NumPy.ipynb\" target=\"_parent\"><img src=\"https://colab.research.google.com/assets/colab-badge.svg\" alt=\"Open In Colab\"/></a>"
      ]
    },
    {
      "cell_type": "code",
      "execution_count": 3,
      "metadata": {
        "colab": {
          "base_uri": "https://localhost:8080/"
        },
        "id": "ln6XEgbnF7u-",
        "outputId": "76a8e8ba-d129-4bb8-c997-21649a7207fc"
      },
      "outputs": [
        {
          "output_type": "execute_result",
          "data": {
            "text/plain": [
              "array([1, 2, 3, 4, 5])"
            ]
          },
          "metadata": {},
          "execution_count": 3
        }
      ],
      "source": [
        "# Başlık : NumPy Array'i Oluşturma (Creating NumPy Arrays)\n",
        "\n",
        "# Aşağıda yapılan işlemde sıfırdan bir array oluşturma işlemi array metoduyla gerçekleştirilmektedir.\n",
        "\n",
        "import numpy as np\n",
        "\n",
        "np.array([1, 2, 3, 4, 5])\n"
      ]
    },
    {
      "cell_type": "code",
      "source": [
        "# Oluşturulan yapının tipini sorgulayalım.\n",
        "\n",
        "type(np.array([1, 2, 3, 4, 5]))"
      ],
      "metadata": {
        "colab": {
          "base_uri": "https://localhost:8080/"
        },
        "id": "iRzffw8VHRwO",
        "outputId": "107ca894-08e4-4882-cdb4-36e8d1496dad"
      },
      "execution_count": 5,
      "outputs": [
        {
          "output_type": "execute_result",
          "data": {
            "text/plain": [
              "numpy.ndarray"
            ]
          },
          "metadata": {},
          "execution_count": 5
        }
      ]
    },
    {
      "cell_type": "code",
      "source": [
        "# Sıfırdan array oluşturmanın başka bazı yöntemleri de mevcuttur. Aşağıda bazılarının örnekleri gösterilmektedir.\n",
        "\n",
        "# 1- zeros metodu : Girdiğimiz sayı değeri kadar 0 lardan oluşan array oluşturur. Aşağıda 10 tane 0 dan oluşan ve tipleri integer olan bir array oluşturulmaktadır.\n",
        "\n",
        "np.zeros(10, dtype = int)"
      ],
      "metadata": {
        "colab": {
          "base_uri": "https://localhost:8080/"
        },
        "id": "paIZ0OCeHz_i",
        "outputId": "720f5e88-5e20-48eb-9771-36f692bd70b6"
      },
      "execution_count": 6,
      "outputs": [
        {
          "output_type": "execute_result",
          "data": {
            "text/plain": [
              "array([0, 0, 0, 0, 0, 0, 0, 0, 0, 0])"
            ]
          },
          "metadata": {},
          "execution_count": 6
        }
      ]
    },
    {
      "cell_type": "code",
      "source": [
        "# 2- randint metodu : Önce random modulünü çağırmamız gerekmektedir. Ardından randint metodu çağrılır. Hangi sınırdan hangi sınıra kadar array oluşturulmak\n",
        "\n",
        "# istendiği bilgileri girilir. Ardından size ile kaç tane seçim yapılmak isteniyorsa onun bilgisi girilir. Aşağıda yapılan işlem alt limiti 0 üst limiti 10\n",
        "\n",
        "# olan ve 10 tane rastgele sayı (integer) içeren bir array oluşturma işlemidir.\n",
        "\n",
        "np.random.randint(0, 10, size = 10)"
      ],
      "metadata": {
        "colab": {
          "base_uri": "https://localhost:8080/"
        },
        "id": "U5IrGV9ZJLWX",
        "outputId": "e3a11c3f-af06-402b-e8be-090497e07702"
      },
      "execution_count": 10,
      "outputs": [
        {
          "output_type": "execute_result",
          "data": {
            "text/plain": [
              "array([8, 7, 0, 0, 5, 2, 7, 1, 7, 1])"
            ]
          },
          "metadata": {},
          "execution_count": 10
        }
      ]
    },
    {
      "cell_type": "code",
      "source": [
        "# 3- normal metodu : Eğer ki belirli bir istatistiksel dağılıma göre sayı üretmek istersek bunu random modulündeki normal metoduyla gerçekleştirebiliriz.\n",
        "\n",
        "# Aşağıda ortalaması 10, standart sapması 4, 3 x 4 lük normal dağılımlı bir array oluşturulmmuştur.\n",
        "\n",
        "np.random.normal(10, 4, (3, 4))"
      ],
      "metadata": {
        "colab": {
          "base_uri": "https://localhost:8080/"
        },
        "id": "hF5uOetpOod4",
        "outputId": "2c89bfc6-a75e-4063-9241-908ab0dedbd9"
      },
      "execution_count": 11,
      "outputs": [
        {
          "output_type": "execute_result",
          "data": {
            "text/plain": [
              "array([[ 3.03326328, 12.36605078, 11.89603808, 14.62581107],\n",
              "       [13.84969167,  0.42585994,  7.61946371, 12.6005929 ],\n",
              "       [ 8.9472778 , 10.63615366, 12.39580984, 12.78439319]])"
            ]
          },
          "metadata": {},
          "execution_count": 11
        }
      ]
    },
    {
      "cell_type": "code",
      "source": [
        "# Diğer sıfırdan array oluşturma metodları için --> raandom modulünü inceleyebilirsin.\n",
        "\n",
        "# Yaygın kullanım sıfırdan array oluşturma değildir."
      ],
      "metadata": {
        "id": "bsgXsomqPhfH"
      },
      "execution_count": null,
      "outputs": []
    },
    {
      "cell_type": "code",
      "source": [
        "# Başlık : NumPy Array Özellikleri (Attributes of NumPy Arrays)\n",
        "\n",
        "import numpy as np\n",
        "\n",
        "# ndim : Boyut Sayısı\n",
        "# shape : Boyut Bilgisi\n",
        "# size : Toplam Eleman Sayısı\n",
        "# dtype : Array Veri Tipi\n",
        "\n",
        "a = np.random.randint(10, size=5)\n",
        "\n",
        "a\n"
      ],
      "metadata": {
        "colab": {
          "base_uri": "https://localhost:8080/"
        },
        "id": "wc1URlvdQCxS",
        "outputId": "42c0fb05-1c60-4487-9d92-a11561214f94"
      },
      "execution_count": 13,
      "outputs": [
        {
          "output_type": "execute_result",
          "data": {
            "text/plain": [
              "array([7, 5, 4, 7, 1])"
            ]
          },
          "metadata": {},
          "execution_count": 13
        }
      ]
    },
    {
      "cell_type": "code",
      "source": [
        "# Boyut sayısına erişmek için :\n",
        "\n",
        "# Tek boyutludur.\n",
        "\n",
        "a.ndim"
      ],
      "metadata": {
        "colab": {
          "base_uri": "https://localhost:8080/"
        },
        "id": "ZqIhBc4faKB5",
        "outputId": "0b3ed4fa-23e5-455f-c492-44cc313f8c8a"
      },
      "execution_count": 14,
      "outputs": [
        {
          "output_type": "execute_result",
          "data": {
            "text/plain": [
              "1"
            ]
          },
          "metadata": {},
          "execution_count": 14
        }
      ]
    },
    {
      "cell_type": "code",
      "source": [
        "# Boyut bilgisine ulaşmak için :\n",
        "\n",
        "# Tek boyutludur ve içinde 5 eleman vardır. Burada 2 boyut olsaydı her boyuttaki eleman sayısı gelecekti.\n",
        "\n",
        "a.shape"
      ],
      "metadata": {
        "colab": {
          "base_uri": "https://localhost:8080/"
        },
        "id": "di1ApyqkaT2b",
        "outputId": "61e7d5b3-7406-4ec4-fee0-80db6761302b"
      },
      "execution_count": 15,
      "outputs": [
        {
          "output_type": "execute_result",
          "data": {
            "text/plain": [
              "(5,)"
            ]
          },
          "metadata": {},
          "execution_count": 15
        }
      ]
    },
    {
      "cell_type": "code",
      "source": [
        "# Toplam eleman sayısına ulaşmak için :\n",
        "\n",
        "a.size"
      ],
      "metadata": {
        "colab": {
          "base_uri": "https://localhost:8080/"
        },
        "id": "qPwixri72BXl",
        "outputId": "cd195f81-1aa3-4b3e-a2dc-623808bfdea8"
      },
      "execution_count": 16,
      "outputs": [
        {
          "output_type": "execute_result",
          "data": {
            "text/plain": [
              "5"
            ]
          },
          "metadata": {},
          "execution_count": 16
        }
      ]
    },
    {
      "cell_type": "code",
      "source": [
        "# NumPy arrayin tuttuğu verilerin tip bilgisine ulaşmak için :\n",
        "\n",
        "a.dtype"
      ],
      "metadata": {
        "colab": {
          "base_uri": "https://localhost:8080/"
        },
        "id": "F5gXaemP2KbN",
        "outputId": "c3fe1933-dc59-4cf0-c7a6-c9a0ee1d9919"
      },
      "execution_count": 17,
      "outputs": [
        {
          "output_type": "execute_result",
          "data": {
            "text/plain": [
              "dtype('int64')"
            ]
          },
          "metadata": {},
          "execution_count": 17
        }
      ]
    },
    {
      "cell_type": "code",
      "source": [
        "# Başlık : Yeniden Şekillendirme (Reshaping)\n",
        "\n",
        "# Elimizdeki numpy arrayinin boyutunu değiştirmek istediğimizde reshape metodunu kullanırız.\n",
        "\n",
        "np.random.randint(1, 10, size=9)"
      ],
      "metadata": {
        "colab": {
          "base_uri": "https://localhost:8080/"
        },
        "id": "wuOn_Z7p4k3C",
        "outputId": "290ef57a-6360-4d4b-e238-4723bb3b4c2f"
      },
      "execution_count": 20,
      "outputs": [
        {
          "output_type": "execute_result",
          "data": {
            "text/plain": [
              "array([9, 2, 7, 6, 9, 7, 4, 5, 6])"
            ]
          },
          "metadata": {},
          "execution_count": 20
        }
      ]
    },
    {
      "cell_type": "code",
      "source": [
        "# Diyelim ki yukarıdaki arrayi iki boyutlu bir arraye çevirmek istiyoruz. Örneğin 3 x 3 lük bir arraye çevirelim.\n",
        "\n",
        "np.random.randint(1, 10, size=9).reshape(3, 3)"
      ],
      "metadata": {
        "colab": {
          "base_uri": "https://localhost:8080/"
        },
        "id": "bWKtxAunKXUS",
        "outputId": "456a73cb-0c62-441a-f1c8-077e337d0a9c"
      },
      "execution_count": 21,
      "outputs": [
        {
          "output_type": "execute_result",
          "data": {
            "text/plain": [
              "array([[8, 8, 6],\n",
              "       [9, 1, 7],\n",
              "       [4, 3, 2]])"
            ]
          },
          "metadata": {},
          "execution_count": 21
        }
      ]
    },
    {
      "cell_type": "code",
      "source": [
        "# Bir de aynı işlemi atama işlemiyle birlikte gerçekleştirelim.\n",
        "\n",
        "# Arrayi oluşturalım.\n",
        "\n",
        "ar = np.random.randint(1, 10, size=9)\n",
        "\n",
        "ar\n"
      ],
      "metadata": {
        "colab": {
          "base_uri": "https://localhost:8080/"
        },
        "id": "P1t8-sCVKka3",
        "outputId": "7b598b00-cb7e-437b-8b04-9360ab13fa8b"
      },
      "execution_count": 23,
      "outputs": [
        {
          "output_type": "execute_result",
          "data": {
            "text/plain": [
              "array([6, 5, 8, 8, 4, 8, 3, 1, 1])"
            ]
          },
          "metadata": {},
          "execution_count": 23
        }
      ]
    },
    {
      "cell_type": "code",
      "source": [
        "# Arrayi yeniden şekillendirelim.\n",
        "\n",
        "ar.reshape(3,3)"
      ],
      "metadata": {
        "colab": {
          "base_uri": "https://localhost:8080/"
        },
        "id": "zA-UhsNIK18c",
        "outputId": "9629c623-40cf-4cfc-d03d-ba28f5d5bbc0"
      },
      "execution_count": 25,
      "outputs": [
        {
          "output_type": "execute_result",
          "data": {
            "text/plain": [
              "array([[6, 5, 8],\n",
              "       [8, 4, 8],\n",
              "       [3, 1, 1]])"
            ]
          },
          "metadata": {},
          "execution_count": 25
        }
      ]
    }
  ]
}