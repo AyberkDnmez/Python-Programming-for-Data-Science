{
  "nbformat": 4,
  "nbformat_minor": 0,
  "metadata": {
    "colab": {
      "provenance": [],
      "authorship_tag": "ABX9TyN3HEJO6ugY95xusfk+39Y4",
      "include_colab_link": true
    },
    "kernelspec": {
      "name": "python3",
      "display_name": "Python 3"
    },
    "language_info": {
      "name": "python"
    }
  },
  "cells": [
    {
      "cell_type": "markdown",
      "metadata": {
        "id": "view-in-github",
        "colab_type": "text"
      },
      "source": [
        "<a href=\"https://colab.research.google.com/github/AyberkDnmez/Python-Programming-for-Data-Science/blob/main/Python_ile_Veri_Analizi_NumPy.ipynb\" target=\"_parent\"><img src=\"https://colab.research.google.com/assets/colab-badge.svg\" alt=\"Open In Colab\"/></a>"
      ]
    },
    {
      "cell_type": "code",
      "execution_count": null,
      "metadata": {
        "colab": {
          "base_uri": "https://localhost:8080/"
        },
        "id": "ln6XEgbnF7u-",
        "outputId": "76a8e8ba-d129-4bb8-c997-21649a7207fc"
      },
      "outputs": [
        {
          "output_type": "execute_result",
          "data": {
            "text/plain": [
              "array([1, 2, 3, 4, 5])"
            ]
          },
          "metadata": {},
          "execution_count": 3
        }
      ],
      "source": [
        "# Başlık : NumPy Array'i Oluşturma (Creating NumPy Arrays)\n",
        "\n",
        "# Aşağıda yapılan işlemde sıfırdan bir array oluşturma işlemi array metoduyla gerçekleştirilmektedir.\n",
        "\n",
        "import numpy as np\n",
        "\n",
        "np.array([1, 2, 3, 4, 5])\n"
      ]
    },
    {
      "cell_type": "code",
      "source": [
        "# Oluşturulan yapının tipini sorgulayalım.\n",
        "\n",
        "type(np.array([1, 2, 3, 4, 5]))"
      ],
      "metadata": {
        "colab": {
          "base_uri": "https://localhost:8080/"
        },
        "id": "iRzffw8VHRwO",
        "outputId": "107ca894-08e4-4882-cdb4-36e8d1496dad"
      },
      "execution_count": null,
      "outputs": [
        {
          "output_type": "execute_result",
          "data": {
            "text/plain": [
              "numpy.ndarray"
            ]
          },
          "metadata": {},
          "execution_count": 5
        }
      ]
    },
    {
      "cell_type": "code",
      "source": [
        "# Sıfırdan array oluşturmanın başka bazı yöntemleri de mevcuttur. Aşağıda bazılarının örnekleri gösterilmektedir.\n",
        "\n",
        "# 1- zeros metodu : Girdiğimiz sayı değeri kadar 0 lardan oluşan array oluşturur. Aşağıda 10 tane 0 dan oluşan ve tipleri integer olan bir array oluşturulmaktadır.\n",
        "\n",
        "np.zeros(10, dtype = int)"
      ],
      "metadata": {
        "colab": {
          "base_uri": "https://localhost:8080/"
        },
        "id": "paIZ0OCeHz_i",
        "outputId": "720f5e88-5e20-48eb-9771-36f692bd70b6"
      },
      "execution_count": null,
      "outputs": [
        {
          "output_type": "execute_result",
          "data": {
            "text/plain": [
              "array([0, 0, 0, 0, 0, 0, 0, 0, 0, 0])"
            ]
          },
          "metadata": {},
          "execution_count": 6
        }
      ]
    },
    {
      "cell_type": "code",
      "source": [
        "# 2- randint metodu : Önce random modulünü çağırmamız gerekmektedir. Ardından randint metodu çağrılır. Hangi sınırdan hangi sınıra kadar array oluşturulmak\n",
        "\n",
        "# istendiği bilgileri girilir. Ardından size ile kaç tane seçim yapılmak isteniyorsa onun bilgisi girilir. Aşağıda yapılan işlem alt limiti 0 üst limiti 10\n",
        "\n",
        "# olan ve 10 tane rastgele sayı (integer) içeren bir array oluşturma işlemidir.\n",
        "\n",
        "np.random.randint(0, 10, size = 10)"
      ],
      "metadata": {
        "colab": {
          "base_uri": "https://localhost:8080/"
        },
        "id": "U5IrGV9ZJLWX",
        "outputId": "e3a11c3f-af06-402b-e8be-090497e07702"
      },
      "execution_count": null,
      "outputs": [
        {
          "output_type": "execute_result",
          "data": {
            "text/plain": [
              "array([8, 7, 0, 0, 5, 2, 7, 1, 7, 1])"
            ]
          },
          "metadata": {},
          "execution_count": 10
        }
      ]
    },
    {
      "cell_type": "code",
      "source": [
        "# 3- normal metodu : Eğer ki belirli bir istatistiksel dağılıma göre sayı üretmek istersek bunu random modulündeki normal metoduyla gerçekleştirebiliriz.\n",
        "\n",
        "# Aşağıda ortalaması 10, standart sapması 4, 3 x 4 lük normal dağılımlı bir array oluşturulmmuştur.\n",
        "\n",
        "np.random.normal(10, 4, (3, 4))"
      ],
      "metadata": {
        "colab": {
          "base_uri": "https://localhost:8080/"
        },
        "id": "hF5uOetpOod4",
        "outputId": "2c89bfc6-a75e-4063-9241-908ab0dedbd9"
      },
      "execution_count": null,
      "outputs": [
        {
          "output_type": "execute_result",
          "data": {
            "text/plain": [
              "array([[ 3.03326328, 12.36605078, 11.89603808, 14.62581107],\n",
              "       [13.84969167,  0.42585994,  7.61946371, 12.6005929 ],\n",
              "       [ 8.9472778 , 10.63615366, 12.39580984, 12.78439319]])"
            ]
          },
          "metadata": {},
          "execution_count": 11
        }
      ]
    },
    {
      "cell_type": "code",
      "source": [
        "# Diğer sıfırdan array oluşturma metodları için --> raandom modulünü inceleyebilirsin.\n",
        "\n",
        "# Yaygın kullanım sıfırdan array oluşturma değildir."
      ],
      "metadata": {
        "id": "bsgXsomqPhfH"
      },
      "execution_count": null,
      "outputs": []
    },
    {
      "cell_type": "code",
      "source": [
        "# Başlık : NumPy Array Özellikleri (Attributes of NumPy Arrays)\n",
        "\n",
        "import numpy as np\n",
        "\n",
        "# ndim : Boyut Sayısı\n",
        "# shape : Boyut Bilgisi\n",
        "# size : Toplam Eleman Sayısı\n",
        "# dtype : Array Veri Tipi\n",
        "\n",
        "a = np.random.randint(10, size=5)\n",
        "\n",
        "a\n"
      ],
      "metadata": {
        "colab": {
          "base_uri": "https://localhost:8080/"
        },
        "id": "wc1URlvdQCxS",
        "outputId": "42c0fb05-1c60-4487-9d92-a11561214f94"
      },
      "execution_count": null,
      "outputs": [
        {
          "output_type": "execute_result",
          "data": {
            "text/plain": [
              "array([7, 5, 4, 7, 1])"
            ]
          },
          "metadata": {},
          "execution_count": 13
        }
      ]
    },
    {
      "cell_type": "code",
      "source": [
        "# Boyut sayısına erişmek için :\n",
        "\n",
        "# Tek boyutludur.\n",
        "\n",
        "a.ndim"
      ],
      "metadata": {
        "colab": {
          "base_uri": "https://localhost:8080/"
        },
        "id": "ZqIhBc4faKB5",
        "outputId": "0b3ed4fa-23e5-455f-c492-44cc313f8c8a"
      },
      "execution_count": null,
      "outputs": [
        {
          "output_type": "execute_result",
          "data": {
            "text/plain": [
              "1"
            ]
          },
          "metadata": {},
          "execution_count": 14
        }
      ]
    },
    {
      "cell_type": "code",
      "source": [
        "# Boyut bilgisine ulaşmak için :\n",
        "\n",
        "# Tek boyutludur ve içinde 5 eleman vardır. Burada 2 boyut olsaydı her boyuttaki eleman sayısı gelecekti.\n",
        "\n",
        "a.shape"
      ],
      "metadata": {
        "colab": {
          "base_uri": "https://localhost:8080/"
        },
        "id": "di1ApyqkaT2b",
        "outputId": "61e7d5b3-7406-4ec4-fee0-80db6761302b"
      },
      "execution_count": null,
      "outputs": [
        {
          "output_type": "execute_result",
          "data": {
            "text/plain": [
              "(5,)"
            ]
          },
          "metadata": {},
          "execution_count": 15
        }
      ]
    },
    {
      "cell_type": "code",
      "source": [
        "# Toplam eleman sayısına ulaşmak için :\n",
        "\n",
        "a.size"
      ],
      "metadata": {
        "colab": {
          "base_uri": "https://localhost:8080/"
        },
        "id": "qPwixri72BXl",
        "outputId": "cd195f81-1aa3-4b3e-a2dc-623808bfdea8"
      },
      "execution_count": null,
      "outputs": [
        {
          "output_type": "execute_result",
          "data": {
            "text/plain": [
              "5"
            ]
          },
          "metadata": {},
          "execution_count": 16
        }
      ]
    },
    {
      "cell_type": "code",
      "source": [
        "# NumPy arrayin tuttuğu verilerin tip bilgisine ulaşmak için :\n",
        "\n",
        "a.dtype"
      ],
      "metadata": {
        "colab": {
          "base_uri": "https://localhost:8080/"
        },
        "id": "F5gXaemP2KbN",
        "outputId": "c3fe1933-dc59-4cf0-c7a6-c9a0ee1d9919"
      },
      "execution_count": null,
      "outputs": [
        {
          "output_type": "execute_result",
          "data": {
            "text/plain": [
              "dtype('int64')"
            ]
          },
          "metadata": {},
          "execution_count": 17
        }
      ]
    },
    {
      "cell_type": "code",
      "source": [
        "# Başlık : Yeniden Şekillendirme (Reshaping)\n",
        "\n",
        "# Elimizdeki numpy arrayinin boyutunu değiştirmek istediğimizde reshape metodunu kullanırız.\n",
        "\n",
        "np.random.randint(1, 10, size=9)"
      ],
      "metadata": {
        "colab": {
          "base_uri": "https://localhost:8080/"
        },
        "id": "wuOn_Z7p4k3C",
        "outputId": "290ef57a-6360-4d4b-e238-4723bb3b4c2f"
      },
      "execution_count": null,
      "outputs": [
        {
          "output_type": "execute_result",
          "data": {
            "text/plain": [
              "array([9, 2, 7, 6, 9, 7, 4, 5, 6])"
            ]
          },
          "metadata": {},
          "execution_count": 20
        }
      ]
    },
    {
      "cell_type": "code",
      "source": [
        "# Diyelim ki yukarıdaki arrayi iki boyutlu bir arraye çevirmek istiyoruz. Örneğin 3 x 3 lük bir arraye çevirelim.\n",
        "\n",
        "np.random.randint(1, 10, size=9).reshape(3, 3)"
      ],
      "metadata": {
        "colab": {
          "base_uri": "https://localhost:8080/"
        },
        "id": "bWKtxAunKXUS",
        "outputId": "456a73cb-0c62-441a-f1c8-077e337d0a9c"
      },
      "execution_count": null,
      "outputs": [
        {
          "output_type": "execute_result",
          "data": {
            "text/plain": [
              "array([[8, 8, 6],\n",
              "       [9, 1, 7],\n",
              "       [4, 3, 2]])"
            ]
          },
          "metadata": {},
          "execution_count": 21
        }
      ]
    },
    {
      "cell_type": "code",
      "source": [
        "# Bir de aynı işlemi atama işlemiyle birlikte gerçekleştirelim.\n",
        "\n",
        "# Arrayi oluşturalım.\n",
        "\n",
        "ar = np.random.randint(1, 10, size=9)\n",
        "\n",
        "ar\n"
      ],
      "metadata": {
        "colab": {
          "base_uri": "https://localhost:8080/"
        },
        "id": "P1t8-sCVKka3",
        "outputId": "7b598b00-cb7e-437b-8b04-9360ab13fa8b"
      },
      "execution_count": null,
      "outputs": [
        {
          "output_type": "execute_result",
          "data": {
            "text/plain": [
              "array([6, 5, 8, 8, 4, 8, 3, 1, 1])"
            ]
          },
          "metadata": {},
          "execution_count": 23
        }
      ]
    },
    {
      "cell_type": "code",
      "source": [
        "# Arrayi yeniden şekillendirelim.\n",
        "\n",
        "ar.reshape(3,3)"
      ],
      "metadata": {
        "colab": {
          "base_uri": "https://localhost:8080/"
        },
        "id": "zA-UhsNIK18c",
        "outputId": "9629c623-40cf-4cfc-d03d-ba28f5d5bbc0"
      },
      "execution_count": null,
      "outputs": [
        {
          "output_type": "execute_result",
          "data": {
            "text/plain": [
              "array([[6, 5, 8],\n",
              "       [8, 4, 8],\n",
              "       [3, 1, 1]])"
            ]
          },
          "metadata": {},
          "execution_count": 25
        }
      ]
    },
    {
      "cell_type": "code",
      "source": [
        "# Başlık : Index işlemleri\n",
        "\n",
        "# Index Seçimi (Index Selection)\n",
        "\n",
        "import numpy as np\n",
        "a = np.random.randint(10, size=10)\n",
        "\n",
        "a"
      ],
      "metadata": {
        "colab": {
          "base_uri": "https://localhost:8080/"
        },
        "id": "e2b_dwvir-Vn",
        "outputId": "6f13560f-2eac-44a7-f3dd-c95afe60ad07"
      },
      "execution_count": 4,
      "outputs": [
        {
          "output_type": "execute_result",
          "data": {
            "text/plain": [
              "array([9, 3, 4, 4, 0, 0, 9, 2, 3, 0])"
            ]
          },
          "metadata": {},
          "execution_count": 4
        }
      ]
    },
    {
      "cell_type": "code",
      "source": [
        "# 0.elemana gitmek istediğimizi düşünelim.\n",
        "\n",
        "a[0]\n",
        "\n",
        "# Gördüğümüz gibi liste veri yapılarına oldukça benzerdir."
      ],
      "metadata": {
        "colab": {
          "base_uri": "https://localhost:8080/"
        },
        "id": "0MDND3oMsaZK",
        "outputId": "bc07aa18-da0c-4255-f9ee-257544385594"
      },
      "execution_count": 5,
      "outputs": [
        {
          "output_type": "execute_result",
          "data": {
            "text/plain": [
              "9"
            ]
          },
          "metadata": {},
          "execution_count": 5
        }
      ]
    },
    {
      "cell_type": "code",
      "source": [
        "# Birden fazla elemanı seçmek istediğimizi düşünelim. Bu işlem de listelerdeki gibidir.\n",
        "\n",
        "a[0:5]"
      ],
      "metadata": {
        "colab": {
          "base_uri": "https://localhost:8080/"
        },
        "id": "zP_kKzW4smdG",
        "outputId": "796617ac-1e9a-4014-bdb5-0d0cb1501c29"
      },
      "execution_count": 6,
      "outputs": [
        {
          "output_type": "execute_result",
          "data": {
            "text/plain": [
              "array([9, 3, 4, 4, 0])"
            ]
          },
          "metadata": {},
          "execution_count": 6
        }
      ]
    },
    {
      "cell_type": "code",
      "source": [
        "# Belirli bir indexteki elemanı değiştirmek istediğimizi düşünelim.\n",
        "\n",
        "a[0] = 999\n",
        "\n",
        "a"
      ],
      "metadata": {
        "colab": {
          "base_uri": "https://localhost:8080/"
        },
        "id": "Oi42v5oxtF8j",
        "outputId": "4eeb1bad-296e-4473-ea16-9a8810e4e330"
      },
      "execution_count": 7,
      "outputs": [
        {
          "output_type": "execute_result",
          "data": {
            "text/plain": [
              "array([999,   3,   4,   4,   0,   0,   9,   2,   3,   0])"
            ]
          },
          "metadata": {},
          "execution_count": 7
        }
      ]
    },
    {
      "cell_type": "code",
      "source": [
        "# Elimizde 2 boyutlu arrayler olursa burada seçim işlemlerini nasıl gerçekleştiririz ?\n",
        "\n",
        "m = np.random.randint(10, size=(3,5))\n",
        "\n",
        "m"
      ],
      "metadata": {
        "colab": {
          "base_uri": "https://localhost:8080/"
        },
        "id": "3af0JlFMtjMu",
        "outputId": "50690c0e-4086-4652-a319-c8e443cfd16f"
      },
      "execution_count": 9,
      "outputs": [
        {
          "output_type": "execute_result",
          "data": {
            "text/plain": [
              "array([[7, 2, 5, 2, 7],\n",
              "       [9, 2, 8, 4, 9],\n",
              "       [7, 4, 8, 4, 9]])"
            ]
          },
          "metadata": {},
          "execution_count": 9
        }
      ]
    },
    {
      "cell_type": "code",
      "source": [
        "# Dikkat ! Aşağıdaki işlemde virgülden öncesi satırları, virgülden sonrası sütunları temsil etmektedir. Dolayısıyla elimizde 2 boyutlu bir array\n",
        "\n",
        "# olduğunda hem satır bilgisini hem sütun bilgisini vermemiz gerekmektedir.\n",
        "\n",
        "m[0, 0]\n",
        "\n"
      ],
      "metadata": {
        "colab": {
          "base_uri": "https://localhost:8080/"
        },
        "id": "eu2EEId6t3qp",
        "outputId": "88781289-5e1b-454e-ab8c-106f450bbc6e"
      },
      "execution_count": 10,
      "outputs": [
        {
          "output_type": "execute_result",
          "data": {
            "text/plain": [
              "7"
            ]
          },
          "metadata": {},
          "execution_count": 10
        }
      ]
    },
    {
      "cell_type": "code",
      "source": [
        "m[1, 1]"
      ],
      "metadata": {
        "colab": {
          "base_uri": "https://localhost:8080/"
        },
        "id": "QdOlFjBMuhz1",
        "outputId": "054d30f6-d906-4b17-9a1e-fd7ec0cae3cc"
      },
      "execution_count": 11,
      "outputs": [
        {
          "output_type": "execute_result",
          "data": {
            "text/plain": [
              "2"
            ]
          },
          "metadata": {},
          "execution_count": 11
        }
      ]
    },
    {
      "cell_type": "code",
      "source": [
        "m[2, 3]"
      ],
      "metadata": {
        "colab": {
          "base_uri": "https://localhost:8080/"
        },
        "id": "vKxHUwwWvKEh",
        "outputId": "1f523c37-31a4-44eb-ef3c-923a130de3a4"
      },
      "execution_count": 12,
      "outputs": [
        {
          "output_type": "execute_result",
          "data": {
            "text/plain": [
              "4"
            ]
          },
          "metadata": {},
          "execution_count": 12
        }
      ]
    },
    {
      "cell_type": "code",
      "source": [
        "# Eleman değiştirme işlemi gerçekleştirelim.\n",
        "\n",
        "m [2, 3] = 999\n",
        "\n",
        "m"
      ],
      "metadata": {
        "colab": {
          "base_uri": "https://localhost:8080/"
        },
        "id": "Cl936MOuvOaW",
        "outputId": "2d88f3bf-b2c1-49da-8d63-376e836bc3ed"
      },
      "execution_count": 14,
      "outputs": [
        {
          "output_type": "execute_result",
          "data": {
            "text/plain": [
              "array([[  7,   2,   5,   2,   7],\n",
              "       [  9,   2,   8,   4,   9],\n",
              "       [  7,   4,   8, 999,   9]])"
            ]
          },
          "metadata": {},
          "execution_count": 14
        }
      ]
    },
    {
      "cell_type": "code",
      "source": [
        "# Buraya float eklemek istesek ne olurdu ? Görelim.\n",
        "\n",
        "m[2, 3] = 2.9\n",
        "\n",
        "m\n",
        "\n",
        "# NumPy fix type arraydir. NumPyı hızlı kılan verimli veri saklama yönüdür. NumPy tek tip veri saklar. Bu yüzden girilen bu float değerin diğer verilerin\n",
        "\n",
        "# tipiyle uyumlu olması gerekir. Bu yüzden bunu 2 olarak arraye dahil eder."
      ],
      "metadata": {
        "colab": {
          "base_uri": "https://localhost:8080/"
        },
        "id": "gDxL60BQzS80",
        "outputId": "bfd473b9-232a-44da-dbb5-8128f4cb9289"
      },
      "execution_count": 16,
      "outputs": [
        {
          "output_type": "execute_result",
          "data": {
            "text/plain": [
              "array([[7, 2, 5, 2, 7],\n",
              "       [9, 2, 8, 4, 9],\n",
              "       [7, 4, 8, 2, 9]])"
            ]
          },
          "metadata": {},
          "execution_count": 16
        }
      ]
    },
    {
      "cell_type": "code",
      "source": [
        "# İki boyutlu arraylerde slicing işlemini görelim.\n",
        "\n",
        "m[:, 0]"
      ],
      "metadata": {
        "colab": {
          "base_uri": "https://localhost:8080/"
        },
        "id": "dIDh6urJz6Uh",
        "outputId": "6488f093-60dd-4efa-94fd-9201e22d70cb"
      },
      "execution_count": 17,
      "outputs": [
        {
          "output_type": "execute_result",
          "data": {
            "text/plain": [
              "array([7, 9, 7])"
            ]
          },
          "metadata": {},
          "execution_count": 17
        }
      ]
    },
    {
      "cell_type": "code",
      "source": [
        "m[1, :]"
      ],
      "metadata": {
        "colab": {
          "base_uri": "https://localhost:8080/"
        },
        "id": "JHosg8C90HkA",
        "outputId": "2f250d04-0150-4b62-e908-c8b05abc2ce4"
      },
      "execution_count": 18,
      "outputs": [
        {
          "output_type": "execute_result",
          "data": {
            "text/plain": [
              "array([9, 2, 8, 4, 9])"
            ]
          },
          "metadata": {},
          "execution_count": 18
        }
      ]
    },
    {
      "cell_type": "code",
      "source": [
        "m[0:2, 0:3]"
      ],
      "metadata": {
        "colab": {
          "base_uri": "https://localhost:8080/"
        },
        "id": "TGyQ5VN50OTY",
        "outputId": "00c8b17d-aa2a-4099-b7c0-a985441237f6"
      },
      "execution_count": 19,
      "outputs": [
        {
          "output_type": "execute_result",
          "data": {
            "text/plain": [
              "array([[7, 2, 5],\n",
              "       [9, 2, 8]])"
            ]
          },
          "metadata": {},
          "execution_count": 19
        }
      ]
    },
    {
      "cell_type": "code",
      "source": [
        "# Başlık : Fancy Index\n",
        "\n",
        "# Aşağıdaki ifade 0 dan 30 a kadar 3 er 3 er artan array oluştur anlamına gelmektedir. Belirli bir adım boyunca array oluşturmak için kullanılabilen\n",
        "\n",
        "# bir metotdur.\n",
        "\n",
        "import numpy as np\n",
        "\n",
        "v = np.arange(0, 30, 3)\n",
        "\n",
        "v"
      ],
      "metadata": {
        "colab": {
          "base_uri": "https://localhost:8080/"
        },
        "id": "iUbLFjkS4lQa",
        "outputId": "b470814f-e359-417e-ab5c-1526cbe76393"
      },
      "execution_count": 22,
      "outputs": [
        {
          "output_type": "execute_result",
          "data": {
            "text/plain": [
              "array([ 0,  3,  6,  9, 12, 15, 18, 21, 24, 27])"
            ]
          },
          "metadata": {},
          "execution_count": 22
        }
      ]
    },
    {
      "cell_type": "code",
      "source": [
        "# Birinci indeksteki elemana gidelim..\n",
        "\n",
        "v[1]"
      ],
      "metadata": {
        "colab": {
          "base_uri": "https://localhost:8080/"
        },
        "id": "P0TfkXpG5MkL",
        "outputId": "7a4c9496-be53-4393-ff26-305dd798bf8f"
      },
      "execution_count": 23,
      "outputs": [
        {
          "output_type": "execute_result",
          "data": {
            "text/plain": [
              "3"
            ]
          },
          "metadata": {},
          "execution_count": 23
        }
      ]
    },
    {
      "cell_type": "code",
      "source": [
        "# Dördüncü indeksteki elemana gidelim.\n",
        "\n",
        "v[4]"
      ],
      "metadata": {
        "colab": {
          "base_uri": "https://localhost:8080/"
        },
        "id": "ANnm8kZr5RLc",
        "outputId": "fcae1ea7-4d70-4730-fddf-aaf2271833cd"
      },
      "execution_count": 24,
      "outputs": [
        {
          "output_type": "execute_result",
          "data": {
            "text/plain": [
              "12"
            ]
          },
          "metadata": {},
          "execution_count": 24
        }
      ]
    },
    {
      "cell_type": "code",
      "source": [
        "# Fancy Index Ne İşe Yarar ?\n",
        "\n",
        "# Fancy Index bir NumPy arrayine, bir liste girdiğinizde, ki bu liste indeks numarası ya da true false ifadelerini de tutuyor olablir; bize kolay bir şekilde\n",
        "\n",
        "# seçim işlemi sağlar.\n",
        "\n",
        "# Fancy Indexi kullanalım."
      ],
      "metadata": {
        "id": "XWDzCdtU5f7W"
      },
      "execution_count": null,
      "outputs": []
    },
    {
      "cell_type": "code",
      "source": [
        "catch = [1, 2, 3]\n",
        "\n",
        "v[catch]"
      ],
      "metadata": {
        "colab": {
          "base_uri": "https://localhost:8080/"
        },
        "id": "3ou9drCd6FBH",
        "outputId": "9051e3da-0409-4585-b9e2-48a7974c2290"
      },
      "execution_count": 25,
      "outputs": [
        {
          "output_type": "execute_result",
          "data": {
            "text/plain": [
              "array([3, 6, 9])"
            ]
          },
          "metadata": {},
          "execution_count": 25
        }
      ]
    },
    {
      "cell_type": "code",
      "source": [
        "# Başlık : NumPy Koşullu İşlemler (Conditions on NumPy)\n",
        "\n",
        "import numpy as np\n",
        "\n",
        "v = np.array([1, 2, 3, 4, 5])\n",
        "\n",
        "v\n",
        "\n"
      ],
      "metadata": {
        "colab": {
          "base_uri": "https://localhost:8080/"
        },
        "id": "QYB6nGlN-Ehn",
        "outputId": "92289d50-6fcf-433e-85fe-e426f151d3a4"
      },
      "execution_count": 27,
      "outputs": [
        {
          "output_type": "execute_result",
          "data": {
            "text/plain": [
              "array([1, 2, 3, 4, 5])"
            ]
          },
          "metadata": {},
          "execution_count": 27
        }
      ]
    },
    {
      "cell_type": "code",
      "source": [
        "# Array içindeki 3 ten küçük değerlere erişmek istediğimizi düşünelim.\n",
        "\n",
        "# 1. Çözüm : Klasik Döngü ile\n",
        "\n",
        "ab = []\n",
        "\n",
        "for i in v:\n",
        "  print(i)\n",
        "\n",
        "for i in v:\n",
        "  if i < 3:\n",
        "    ab.append(i)\n",
        "\n",
        "ab\n"
      ],
      "metadata": {
        "colab": {
          "base_uri": "https://localhost:8080/"
        },
        "id": "7_nGKq1qAMZM",
        "outputId": "721bff1f-fc86-4f8b-df0e-2170c0413017"
      },
      "execution_count": 30,
      "outputs": [
        {
          "output_type": "stream",
          "name": "stdout",
          "text": [
            "1\n",
            "2\n",
            "3\n",
            "4\n",
            "5\n"
          ]
        },
        {
          "output_type": "execute_result",
          "data": {
            "text/plain": [
              "[1, 2]"
            ]
          },
          "metadata": {},
          "execution_count": 30
        }
      ]
    },
    {
      "cell_type": "code",
      "source": [
        "# Peki bunu NumPy ile nasıl gerçekleştiririz ?\n",
        "\n",
        "# Önce aşağıdaki işlemin sonucunu gözlemleyelim.\n",
        "\n",
        "v < 3"
      ],
      "metadata": {
        "colab": {
          "base_uri": "https://localhost:8080/"
        },
        "id": "iU-sG-lwBW8P",
        "outputId": "b8aa7788-08ea-4d8c-aae8-9cd710103467"
      },
      "execution_count": 31,
      "outputs": [
        {
          "output_type": "execute_result",
          "data": {
            "text/plain": [
              "array([ True,  True, False, False, False])"
            ]
          },
          "metadata": {},
          "execution_count": 31
        }
      ]
    },
    {
      "cell_type": "code",
      "source": [
        "# Bu işlemin verdiği sonuca göre, bu sorguyu fancy index olarak kullanalım.\n",
        "\n",
        "v[v < 3]"
      ],
      "metadata": {
        "colab": {
          "base_uri": "https://localhost:8080/"
        },
        "id": "1KjrAe-bFW53",
        "outputId": "c1535fae-111c-4be8-9aae-10815af62dc6"
      },
      "execution_count": 32,
      "outputs": [
        {
          "output_type": "execute_result",
          "data": {
            "text/plain": [
              "array([1, 2])"
            ]
          },
          "metadata": {},
          "execution_count": 32
        }
      ]
    },
    {
      "cell_type": "code",
      "source": [
        "# Bu senaryo genişletilebilir. Örneğin : 3 e eşit olmayanlar gelsin denilebilir.\n",
        "\n",
        "v[ v =! 3]"
      ],
      "metadata": {
        "id": "Oi3sdDfUFnKC"
      },
      "execution_count": null,
      "outputs": []
    }
  ]
}