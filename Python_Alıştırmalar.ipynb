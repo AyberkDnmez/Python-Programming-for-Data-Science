{
  "nbformat": 4,
  "nbformat_minor": 0,
  "metadata": {
    "colab": {
      "provenance": [],
      "authorship_tag": "ABX9TyOcpYQy1MHOSLp4TCPln6sX",
      "include_colab_link": true
    },
    "kernelspec": {
      "name": "python3",
      "display_name": "Python 3"
    },
    "language_info": {
      "name": "python"
    }
  },
  "cells": [
    {
      "cell_type": "markdown",
      "metadata": {
        "id": "view-in-github",
        "colab_type": "text"
      },
      "source": [
        "<a href=\"https://colab.research.google.com/github/AyberkDnmez/Python-Programming-for-Data-Science/blob/main/Python_Al%C4%B1%C5%9Ft%C4%B1rmalar.ipynb\" target=\"_parent\"><img src=\"https://colab.research.google.com/assets/colab-badge.svg\" alt=\"Open In Colab\"/></a>"
      ]
    },
    {
      "cell_type": "code",
      "execution_count": 1,
      "metadata": {
        "colab": {
          "base_uri": "https://localhost:8080/"
        },
        "id": "2nlSxcKkjaPQ",
        "outputId": "e4bfed88-27d1-4103-a27a-6ceec5911018"
      },
      "outputs": [
        {
          "output_type": "execute_result",
          "data": {
            "text/plain": [
              "int"
            ]
          },
          "metadata": {},
          "execution_count": 1
        }
      ],
      "source": [
        "# Görev 1\n",
        "\n",
        "# Verilen değerlerin veri yapılarını inceleyiniz.\n",
        "\n",
        "x = 8\n",
        "\n",
        "type(x)\n"
      ]
    },
    {
      "cell_type": "code",
      "source": [
        "y = 3.2\n",
        "\n",
        "type(y)"
      ],
      "metadata": {
        "colab": {
          "base_uri": "https://localhost:8080/"
        },
        "id": "rDh0q2YjjrqA",
        "outputId": "aa97a08b-0f8a-450a-8c6a-91dce306c544"
      },
      "execution_count": 2,
      "outputs": [
        {
          "output_type": "execute_result",
          "data": {
            "text/plain": [
              "float"
            ]
          },
          "metadata": {},
          "execution_count": 2
        }
      ]
    },
    {
      "cell_type": "code",
      "source": [
        "z = 8j + 18\n",
        "\n",
        "type(z)"
      ],
      "metadata": {
        "colab": {
          "base_uri": "https://localhost:8080/"
        },
        "id": "w3bQAv41kWjl",
        "outputId": "d3ceda67-b542-40e2-d9e2-23c311fb00ba"
      },
      "execution_count": 3,
      "outputs": [
        {
          "output_type": "execute_result",
          "data": {
            "text/plain": [
              "complex"
            ]
          },
          "metadata": {},
          "execution_count": 3
        }
      ]
    },
    {
      "cell_type": "code",
      "source": [
        "a = \"Hello World\"\n",
        "\n",
        "type(a)"
      ],
      "metadata": {
        "colab": {
          "base_uri": "https://localhost:8080/"
        },
        "id": "Y5Gw8s8Ikalv",
        "outputId": "87978843-32b7-416d-f20f-8931256f1b05"
      },
      "execution_count": 4,
      "outputs": [
        {
          "output_type": "execute_result",
          "data": {
            "text/plain": [
              "str"
            ]
          },
          "metadata": {},
          "execution_count": 4
        }
      ]
    },
    {
      "cell_type": "code",
      "source": [
        "b = True\n",
        "\n",
        "type(b)"
      ],
      "metadata": {
        "colab": {
          "base_uri": "https://localhost:8080/"
        },
        "id": "TWxhSZJakdiq",
        "outputId": "1865ae4e-38c9-4866-f747-dd66fd89c66b"
      },
      "execution_count": 5,
      "outputs": [
        {
          "output_type": "execute_result",
          "data": {
            "text/plain": [
              "bool"
            ]
          },
          "metadata": {},
          "execution_count": 5
        }
      ]
    },
    {
      "cell_type": "code",
      "source": [
        "c = 23 < 22\n",
        "\n",
        "type(c)"
      ],
      "metadata": {
        "colab": {
          "base_uri": "https://localhost:8080/"
        },
        "id": "aR9HD2drkl3I",
        "outputId": "eedb7e9b-609e-4384-e57d-36939db9b487"
      },
      "execution_count": 6,
      "outputs": [
        {
          "output_type": "execute_result",
          "data": {
            "text/plain": [
              "bool"
            ]
          },
          "metadata": {},
          "execution_count": 6
        }
      ]
    },
    {
      "cell_type": "code",
      "source": [
        "l = [1, 2, 3, 4]\n",
        "\n",
        "type(l)"
      ],
      "metadata": {
        "colab": {
          "base_uri": "https://localhost:8080/"
        },
        "id": "mvAJVFxekpmT",
        "outputId": "c02264f8-9ed1-4225-aa48-01d6750c1f65"
      },
      "execution_count": 7,
      "outputs": [
        {
          "output_type": "execute_result",
          "data": {
            "text/plain": [
              "list"
            ]
          },
          "metadata": {},
          "execution_count": 7
        }
      ]
    },
    {
      "cell_type": "code",
      "source": [
        "d = {\"Name\": \"Jake\",\n",
        "     \"Age\": 27,\n",
        "     \"Adress\": \"Downtown\"}\n",
        "\n",
        "type(d)"
      ],
      "metadata": {
        "colab": {
          "base_uri": "https://localhost:8080/"
        },
        "id": "DiM3KuyukuQ_",
        "outputId": "ec94c217-6b34-465a-d634-03b78d02c05d"
      },
      "execution_count": 8,
      "outputs": [
        {
          "output_type": "execute_result",
          "data": {
            "text/plain": [
              "dict"
            ]
          },
          "metadata": {},
          "execution_count": 8
        }
      ]
    },
    {
      "cell_type": "code",
      "source": [
        "t = (\"Machine Learning\", \"Data Science\")\n",
        "\n",
        "type(t)"
      ],
      "metadata": {
        "colab": {
          "base_uri": "https://localhost:8080/"
        },
        "id": "wzC0txJak9C2",
        "outputId": "855d04e1-e35e-4203-da01-a0e237fdf796"
      },
      "execution_count": 10,
      "outputs": [
        {
          "output_type": "execute_result",
          "data": {
            "text/plain": [
              "tuple"
            ]
          },
          "metadata": {},
          "execution_count": 10
        }
      ]
    },
    {
      "cell_type": "code",
      "source": [
        "s = {\"Python\", \"Machine Learning\", \"Data Science\"}\n",
        "\n",
        "type(s)"
      ],
      "metadata": {
        "colab": {
          "base_uri": "https://localhost:8080/"
        },
        "id": "iU4O5C-blHgm",
        "outputId": "fc1ab2ff-6506-437a-d179-181e3f5e40b1"
      },
      "execution_count": 12,
      "outputs": [
        {
          "output_type": "execute_result",
          "data": {
            "text/plain": [
              "set"
            ]
          },
          "metadata": {},
          "execution_count": 12
        }
      ]
    },
    {
      "cell_type": "code",
      "source": [
        "# Görev 2 : Verilen string ifadenin tüm harflerini büyük harfe çeviriniz. Virgül ve nokta yerine space koyunuz, kelime kelime ayırınız.\n",
        "\n",
        "text = \"The goal is to turn data into information, and information into insight.\"\n",
        "\n",
        "A = text.upper().split()\n",
        "\n",
        "print(A)"
      ],
      "metadata": {
        "colab": {
          "base_uri": "https://localhost:8080/"
        },
        "id": "u3Irfjdalc2H",
        "outputId": "a882b023-4ad6-477e-9949-5614b988541c"
      },
      "execution_count": 26,
      "outputs": [
        {
          "output_type": "stream",
          "name": "stdout",
          "text": [
            "['THE', 'GOAL', 'IS', 'TO', 'TURN', 'DATA', 'INTO', 'INFORMATION,', 'AND', 'INFORMATION', 'INTO', 'INSIGHT.']\n"
          ]
        }
      ]
    },
    {
      "cell_type": "code",
      "source": [
        "# Görev 2 : Benim çözümüm ve çıkarılacak sonuç\n",
        "\n",
        "text = \"The goal is to turn data into information, and information into insight.\"\n",
        "\n",
        "A = text.upper()\n",
        "\n",
        "print(A)\n",
        "\n",
        "B = A.split()\n",
        "\n",
        "print(B)\n",
        "\n",
        "# Çıkarılacak sonuç : Aynı anda birden çok metod tek satırda uygulanabilir.\n",
        "\n",
        "# Sonuçları alt alta görmemek için print fonksiyonunu kullanmak gerekir."
      ],
      "metadata": {
        "colab": {
          "base_uri": "https://localhost:8080/"
        },
        "id": "KOr8t_EQqtsd",
        "outputId": "3d541463-bdc6-42a4-ec4e-a8b4553e1274"
      },
      "execution_count": 28,
      "outputs": [
        {
          "output_type": "stream",
          "name": "stdout",
          "text": [
            "THE GOAL IS TO TURN DATA INTO INFORMATION, AND INFORMATION INTO INSIGHT.\n",
            "['THE', 'GOAL', 'IS', 'TO', 'TURN', 'DATA', 'INTO', 'INFORMATION,', 'AND', 'INFORMATION', 'INTO', 'INSIGHT.']\n"
          ]
        }
      ]
    },
    {
      "cell_type": "code",
      "source": [
        "# Görev 3 : Verilen listeye aşağıdaki adımları uygulayınız.\n",
        "\n",
        "lst = [\"D\", \"A\", \"T\", \"A\", \"S\", \"C\", \"I\", \"E\", \"N\", \"C\", \"E\"]\n",
        "\n",
        "# 1 : Listenin eleman sayısına bakınız.\n",
        "\n",
        "len(lst)\n"
      ],
      "metadata": {
        "colab": {
          "base_uri": "https://localhost:8080/"
        },
        "id": "u8vWDXt5rify",
        "outputId": "29b27127-3dce-4de4-e243-cbbddd73f088"
      },
      "execution_count": 54,
      "outputs": [
        {
          "output_type": "execute_result",
          "data": {
            "text/plain": [
              "11"
            ]
          },
          "metadata": {},
          "execution_count": 54
        }
      ]
    },
    {
      "cell_type": "code",
      "source": [
        "# 2 : Sıfırıncı ve onuncu indeksteki elemanları çağırınız.\n",
        "\n",
        "print(lst[0])\n",
        "\n",
        "print(lst[10])"
      ],
      "metadata": {
        "colab": {
          "base_uri": "https://localhost:8080/"
        },
        "id": "etBMAxPWtEuU",
        "outputId": "c8e20fa5-5a81-430e-c566-3b48d4bdb29c"
      },
      "execution_count": 33,
      "outputs": [
        {
          "output_type": "stream",
          "name": "stdout",
          "text": [
            "D\n",
            "E\n"
          ]
        }
      ]
    },
    {
      "cell_type": "code",
      "source": [
        "# 3 : Verilen liste üzerinden [\"D\", \"A\",\"T\", \"A\"] listesi oluşturunuz.\n",
        "\n",
        "list = lst[0:4]\n",
        "\n",
        "print(list)"
      ],
      "metadata": {
        "colab": {
          "base_uri": "https://localhost:8080/"
        },
        "id": "mmCVFtnQtP_6",
        "outputId": "61e952e9-a455-4216-c460-f988a5a750cf"
      },
      "execution_count": 34,
      "outputs": [
        {
          "output_type": "stream",
          "name": "stdout",
          "text": [
            "['D', 'A', 'T', 'A']\n"
          ]
        }
      ]
    },
    {
      "cell_type": "code",
      "source": [
        "# 4 : Sekizinci indeksteki elemanı siliniz.\n",
        "\n",
        "del(lst[8])\n",
        "\n",
        "print(lst)"
      ],
      "metadata": {
        "colab": {
          "base_uri": "https://localhost:8080/"
        },
        "id": "JMQbXTlztgXc",
        "outputId": "d3a4a97c-9b5e-473b-9240-6da66629a3a2"
      },
      "execution_count": 55,
      "outputs": [
        {
          "output_type": "stream",
          "name": "stdout",
          "text": [
            "['D', 'A', 'T', 'A', 'S', 'C', 'I', 'E', 'C', 'E']\n"
          ]
        }
      ]
    },
    {
      "cell_type": "code",
      "source": [
        "# 5 : Yeni bir eleman ekleyiniz.\n",
        "\n",
        "# Insert metodu kullanılır.\n",
        "\n",
        "lst.insert(8, \"M\")\n",
        "\n",
        "print(lst)"
      ],
      "metadata": {
        "colab": {
          "base_uri": "https://localhost:8080/"
        },
        "id": "Gzy5ZVr7vxZ3",
        "outputId": "4b344c09-942e-4ab5-9f6c-1d3a2dab8872"
      },
      "execution_count": 56,
      "outputs": [
        {
          "output_type": "stream",
          "name": "stdout",
          "text": [
            "['D', 'A', 'T', 'A', 'S', 'C', 'I', 'E', 'M', 'C', 'E']\n"
          ]
        }
      ]
    },
    {
      "cell_type": "code",
      "source": [
        "# 6 : Sekizinci indekse \"N\" elemanını tekrar ekleyiniz.\n",
        "\n",
        "lst.insert(8, \"N\")\n",
        "\n",
        "print(lst)"
      ],
      "metadata": {
        "colab": {
          "base_uri": "https://localhost:8080/"
        },
        "id": "Y0M-e3eZCV2z",
        "outputId": "c6cfa0ea-2ddc-4099-96d9-03c14b91a884"
      },
      "execution_count": 57,
      "outputs": [
        {
          "output_type": "stream",
          "name": "stdout",
          "text": [
            "['D', 'A', 'T', 'A', 'S', 'C', 'I', 'E', 'N', 'M', 'C', 'E']\n"
          ]
        }
      ]
    },
    {
      "cell_type": "code",
      "source": [
        "# Görev 4 : Verilen sözlük yapısına aşağıdaki adımları uygulayınız.\n",
        "\n",
        "dict = {\"Christian\": [\"America\", 18],\n",
        "        \"Daisy\": [\"England\", 12],\n",
        "        \"Antonio\": [\"Spain\", 22],\n",
        "        \"Dante\": [\"Italy\", 25]}\n",
        "\n",
        "# Key değerlere erişiniz.\n",
        "\n",
        "dict.keys()"
      ],
      "metadata": {
        "colab": {
          "base_uri": "https://localhost:8080/"
        },
        "id": "UiwxESB6CqjG",
        "outputId": "b564be64-0c16-47af-ea8c-7cd01824c67e"
      },
      "execution_count": 77,
      "outputs": [
        {
          "output_type": "execute_result",
          "data": {
            "text/plain": [
              "dict_keys(['Christian', 'Daisy', 'Antonio', 'Dante'])"
            ]
          },
          "metadata": {},
          "execution_count": 77
        }
      ]
    },
    {
      "cell_type": "code",
      "source": [
        "# Valuelara erişiniz\n",
        "\n",
        "dict.values()"
      ],
      "metadata": {
        "colab": {
          "base_uri": "https://localhost:8080/"
        },
        "id": "w_P3OLqGawxw",
        "outputId": "93777746-d7c2-4e24-85cd-0474ff78a642"
      },
      "execution_count": 64,
      "outputs": [
        {
          "output_type": "execute_result",
          "data": {
            "text/plain": [
              "dict_values([['America', 18], ['England', 12], ['Spain', 22], ['Italy', 25]])"
            ]
          },
          "metadata": {},
          "execution_count": 64
        }
      ]
    },
    {
      "cell_type": "code",
      "source": [
        "# Daisy key'ine ait 12 değerini 13 olarak güncelleyiniz.\n",
        "\n",
        "dict[\"Daisy\"] = [\"England\", 13]\n",
        "\n",
        "dict"
      ],
      "metadata": {
        "colab": {
          "base_uri": "https://localhost:8080/"
        },
        "id": "5aW3lTg9a7eg",
        "outputId": "96830385-d453-4c0c-8597-07c77c03a4fb"
      },
      "execution_count": 78,
      "outputs": [
        {
          "output_type": "execute_result",
          "data": {
            "text/plain": [
              "{'Christian': ['America', 18],\n",
              " 'Daisy': ['England', 13],\n",
              " 'Antonio': ['Spain', 22],\n",
              " 'Dante': ['Italy', 25]}"
            ]
          },
          "metadata": {},
          "execution_count": 78
        }
      ]
    },
    {
      "cell_type": "code",
      "source": [
        "# Key değeri Ahmet value değeri [Turkey, 24] olan yeni bir değer ekleyiniz.\n",
        "\n",
        "dict[\"Ahmet\"] = [\"Turkey\", 24]\n",
        "\n",
        "dict"
      ],
      "metadata": {
        "colab": {
          "base_uri": "https://localhost:8080/"
        },
        "id": "sfnNSiO1bLm0",
        "outputId": "b285a6b7-a35a-41f3-ef9e-6867a48cbd5c"
      },
      "execution_count": 80,
      "outputs": [
        {
          "output_type": "execute_result",
          "data": {
            "text/plain": [
              "{'Christian': ['America', 18],\n",
              " 'Daisy': ['England', 13],\n",
              " 'Antonio': ['Spain', 22],\n",
              " 'Dante': ['Italy', 25],\n",
              " 'Ahmet': ['Turkey', 24]}"
            ]
          },
          "metadata": {},
          "execution_count": 80
        }
      ]
    },
    {
      "cell_type": "code",
      "source": [
        "# Antonio'yu dictionary'den siliniz.\n",
        "\n",
        "del dict['Antonio']\n",
        "\n",
        "dict"
      ],
      "metadata": {
        "colab": {
          "base_uri": "https://localhost:8080/"
        },
        "id": "CZDQLL7ZbXzi",
        "outputId": "2f64a47c-282e-43b6-b0f9-ab0928a45c29"
      },
      "execution_count": 81,
      "outputs": [
        {
          "output_type": "execute_result",
          "data": {
            "text/plain": [
              "{'Christian': ['America', 18],\n",
              " 'Daisy': ['England', 13],\n",
              " 'Dante': ['Italy', 25],\n",
              " 'Ahmet': ['Turkey', 24]}"
            ]
          },
          "metadata": {},
          "execution_count": 81
        }
      ]
    },
    {
      "cell_type": "code",
      "source": [
        "# Görev 5 : Argüman olarak bir liste alan, listenin içerisindeki tek ve çift sayıları ayrı listelere atayan ve bu listeleri return eden bir fonksiyon yazınız.\n",
        "\n",
        "L = [1, 2, 3, 4, 5, 6, 7, 8, 9, 10]\n",
        "\n",
        "A = []\n",
        "\n",
        "B = []\n",
        "\n",
        "def evenorodd(list):\n",
        "  for numbers in list:\n",
        "    if numbers % 2 == 0:\n",
        "      A.append(numbers)\n",
        "    else:\n",
        "      B.append(numbers)\n",
        "  return A, B\n",
        "\n",
        "evenorodd(L)\n",
        ""
      ],
      "metadata": {
        "colab": {
          "base_uri": "https://localhost:8080/"
        },
        "id": "OKHaI0Lwu0d2",
        "outputId": "6c3e34c1-44f8-4ed9-e591-e5a60cfd6d05"
      },
      "execution_count": 142,
      "outputs": [
        {
          "output_type": "execute_result",
          "data": {
            "text/plain": [
              "([2, 4, 6, 8, 10], [1, 3, 5, 7, 9])"
            ]
          },
          "metadata": {},
          "execution_count": 142
        }
      ]
    },
    {
      "cell_type": "code",
      "source": [
        "# Görev 6 : Aşağıda verilen listede mühendislik ve tıp fakültelerinde dereceye giren öğrenci isimleri bulunmaktadır. Sırasıyla ilk üç öğrenci\n",
        "\n",
        "# mühendislik fakültesinin başarı sırasını temsil ederken son üç öğrenci de tıp fakültesi öğrenci sırasına aittir. Enumerate kullanarak öğrenci derecelerini\n",
        "\n",
        "# fakülte özelinde yazdırınız.\n",
        "\n",
        "ogrenciler = [\"Ali\", \"Veli\", \"Ayşe\", \"Zeynep\", \"Talat\", \"Ece\"]\n",
        "\n",
        "for i, ogrenci in enumerate(ogrenciler):\n",
        "  if i < 3:\n",
        "    print(\"Muhendislik Fakultesi\",i+1, \".\" , \"ogrenci:\", ogrenci)\n",
        "  else:\n",
        "    print(\"Tıp Fakultesi\", i-2, \".\", \"ogrenci:\", ogrenci)"
      ],
      "metadata": {
        "colab": {
          "base_uri": "https://localhost:8080/"
        },
        "id": "TKLU7XcwwDn0",
        "outputId": "18f03fce-463e-44c1-cc9f-d66bfbc3b373"
      },
      "execution_count": 157,
      "outputs": [
        {
          "output_type": "stream",
          "name": "stdout",
          "text": [
            "Muhendislik Fakultesi 1 . ogrenci: Ali\n",
            "Muhendislik Fakultesi 2 . ogrenci: Veli\n",
            "Muhendislik Fakultesi 3 . ogrenci: Ayşe\n",
            "Tıp Fakultesi 1 . ogrenci: Zeynep\n",
            "Tıp Fakultesi 2 . ogrenci: Talat\n",
            "Tıp Fakultesi 3 . ogrenci: Ece\n"
          ]
        }
      ]
    },
    {
      "cell_type": "code",
      "source": [
        "# Görev 7 : Aşağıda 3 adet liste verilmiştir. Listelerde sırası ile bir dersin kodu, kredisi ve kontenjan bilgileri yer almaktadır. Zip kullanarak ders\n",
        "\n",
        "# bilgilerini bastırınız.\n",
        "\n",
        "ders_kodu = [\"CMP1005\", \"PSY1001\", \"HUK1005\", \"SEN2204\"]\n",
        "kredi = [3, 4, 2, 4]\n",
        "kontenjan = [30, 75, 150, 25]\n",
        "\n",
        "for ders, kr, kon in zip(ders_kodu, kredi, kontenjan):\n",
        "    print(\"Kredisi\", kr, \"olan\", ders, \"kodlu dersin kontenjanı\", kon, \"kişidir.\")\n",
        "\n"
      ],
      "metadata": {
        "colab": {
          "base_uri": "https://localhost:8080/"
        },
        "id": "w_ojxATHHRrx",
        "outputId": "deabaa41-3f3e-45e8-e84f-12f643a1a3f2"
      },
      "execution_count": 168,
      "outputs": [
        {
          "output_type": "stream",
          "name": "stdout",
          "text": [
            "Kredisi 3 olan CMP1005 kodlu dersin kontenjanı 30 kişidir.\n",
            "Kredisi 4 olan PSY1001 kodlu dersin kontenjanı 75 kişidir.\n",
            "Kredisi 2 olan HUK1005 kodlu dersin kontenjanı 150 kişidir.\n",
            "Kredisi 4 olan SEN2204 kodlu dersin kontenjanı 25 kişidir.\n"
          ]
        }
      ]
    },
    {
      "cell_type": "code",
      "source": [
        "# Görev 8 : Aşağıda 2 adet set verilmiştir. Sizden istenilen eğer 1.küme 2.kümeyi kapsıyor ise ortak elemanlarını eğer kapsamıyor ise 2.kümenin\n",
        "\n",
        "# 1.kümeden farkını yazdıracak fonksiyonu tanımlamanız beklenmektedir.\n",
        "\n",
        "kume1 = set([\"data\", \"python\"])\n",
        "kume2 = set([\"data\", \"function\", \"qcut\", \"lambda\", \"python\",\"miuul\"])\n",
        "\n",
        "def setfunction(set1,set2):\n",
        "  if set1.isdisjoint(set2):\n",
        "    print(set1.intersection(set2))\n",
        "  else:\n",
        "    print(set2.difference(set1))\n",
        "\n",
        "setfunction(kume1, kume2)\n",
        "\n",
        "\n",
        "\n",
        "\n",
        "\n"
      ],
      "metadata": {
        "colab": {
          "base_uri": "https://localhost:8080/"
        },
        "id": "fbYGWqmwMwYK",
        "outputId": "9e17b626-03ca-4527-c1dd-e35858afbc59"
      },
      "execution_count": 179,
      "outputs": [
        {
          "output_type": "stream",
          "name": "stdout",
          "text": [
            "{'miuul', 'qcut', 'function', 'lambda'}\n"
          ]
        }
      ]
    }
  ]
}