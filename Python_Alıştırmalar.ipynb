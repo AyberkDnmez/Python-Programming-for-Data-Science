{
  "nbformat": 4,
  "nbformat_minor": 0,
  "metadata": {
    "colab": {
      "provenance": [],
      "authorship_tag": "ABX9TyNo63kzjfmQLkjdMzNMHx61",
      "include_colab_link": true
    },
    "kernelspec": {
      "name": "python3",
      "display_name": "Python 3"
    },
    "language_info": {
      "name": "python"
    }
  },
  "cells": [
    {
      "cell_type": "markdown",
      "metadata": {
        "id": "view-in-github",
        "colab_type": "text"
      },
      "source": [
        "<a href=\"https://colab.research.google.com/github/AyberkDnmez/Python-Programming-for-Data-Science/blob/main/Python_Al%C4%B1%C5%9Ft%C4%B1rmalar.ipynb\" target=\"_parent\"><img src=\"https://colab.research.google.com/assets/colab-badge.svg\" alt=\"Open In Colab\"/></a>"
      ]
    },
    {
      "cell_type": "code",
      "execution_count": 1,
      "metadata": {
        "colab": {
          "base_uri": "https://localhost:8080/"
        },
        "id": "0VQOnrAML7Z1",
        "outputId": "053f6a34-fd15-45a0-a5ab-015953c87030"
      },
      "outputs": [
        {
          "output_type": "execute_result",
          "data": {
            "text/plain": [
              "int"
            ]
          },
          "metadata": {},
          "execution_count": 1
        }
      ],
      "source": [
        "# Görev 1 : Verilen değerlerin veri yapılarını inceleyiniz.\n",
        "\n",
        "# Çözüm 1 :\n",
        "\n",
        "x = 8\n",
        "\n",
        "type(x)"
      ]
    },
    {
      "cell_type": "code",
      "source": [
        "y = 3.2\n",
        "\n",
        "type(y)"
      ],
      "metadata": {
        "colab": {
          "base_uri": "https://localhost:8080/"
        },
        "id": "1g11jHJQMjNm",
        "outputId": "59b8833a-4faa-400d-9d56-b0881849b6fe"
      },
      "execution_count": 2,
      "outputs": [
        {
          "output_type": "execute_result",
          "data": {
            "text/plain": [
              "float"
            ]
          },
          "metadata": {},
          "execution_count": 2
        }
      ]
    },
    {
      "cell_type": "code",
      "source": [
        "z = 8j + 18\n",
        "\n",
        "type(z)"
      ],
      "metadata": {
        "colab": {
          "base_uri": "https://localhost:8080/"
        },
        "id": "af9nrLG7Rqpm",
        "outputId": "2c988e7e-9237-4ef2-f2dc-d2f2f362ce07"
      },
      "execution_count": 1,
      "outputs": [
        {
          "output_type": "execute_result",
          "data": {
            "text/plain": [
              "complex"
            ]
          },
          "metadata": {},
          "execution_count": 1
        }
      ]
    },
    {
      "cell_type": "code",
      "source": [
        "a = \"Hello World\"\n",
        "\n",
        "type(a)"
      ],
      "metadata": {
        "colab": {
          "base_uri": "https://localhost:8080/"
        },
        "id": "1qG8CtzORuBp",
        "outputId": "c62fce72-03dd-45f3-92a3-57919fc76f68"
      },
      "execution_count": 2,
      "outputs": [
        {
          "output_type": "execute_result",
          "data": {
            "text/plain": [
              "str"
            ]
          },
          "metadata": {},
          "execution_count": 2
        }
      ]
    },
    {
      "cell_type": "code",
      "source": [
        "b = True\n",
        "\n",
        "type(b)"
      ],
      "metadata": {
        "colab": {
          "base_uri": "https://localhost:8080/"
        },
        "id": "JCrx7BbdShB0",
        "outputId": "81b9358c-eecc-4579-dc6f-0ad078e79238"
      },
      "execution_count": 10,
      "outputs": [
        {
          "output_type": "execute_result",
          "data": {
            "text/plain": [
              "bool"
            ]
          },
          "metadata": {},
          "execution_count": 10
        }
      ]
    },
    {
      "cell_type": "code",
      "source": [
        "c = 23 < 22\n",
        "\n",
        "type(c)"
      ],
      "metadata": {
        "colab": {
          "base_uri": "https://localhost:8080/"
        },
        "id": "EkMG2rEXSjKZ",
        "outputId": "15874a55-e599-46d9-a397-484eecdf1f95"
      },
      "execution_count": 11,
      "outputs": [
        {
          "output_type": "execute_result",
          "data": {
            "text/plain": [
              "bool"
            ]
          },
          "metadata": {},
          "execution_count": 11
        }
      ]
    },
    {
      "cell_type": "code",
      "source": [
        "l = [1, 2, 3, 4]\n",
        "\n",
        "type(l)"
      ],
      "metadata": {
        "colab": {
          "base_uri": "https://localhost:8080/"
        },
        "id": "LGdKAfUcSrpk",
        "outputId": "10400888-977d-4b1d-9d9c-5be2a91233ba"
      },
      "execution_count": 12,
      "outputs": [
        {
          "output_type": "execute_result",
          "data": {
            "text/plain": [
              "list"
            ]
          },
          "metadata": {},
          "execution_count": 12
        }
      ]
    },
    {
      "cell_type": "code",
      "source": [
        "d = {\"Name\": \"Jake\",\n",
        "     \"Age\": 27,\n",
        "     \"Address\": \"Downtown\"}\n",
        "\n",
        "type(d)"
      ],
      "metadata": {
        "colab": {
          "base_uri": "https://localhost:8080/"
        },
        "id": "iRseMWuCSvAB",
        "outputId": "2306c1cb-28b1-42ff-e89b-023789db731f"
      },
      "execution_count": 14,
      "outputs": [
        {
          "output_type": "execute_result",
          "data": {
            "text/plain": [
              "dict"
            ]
          },
          "metadata": {},
          "execution_count": 14
        }
      ]
    },
    {
      "cell_type": "code",
      "source": [
        "t = (\"Machine Learning\", \"Data Science\")\n",
        "\n",
        "type(t)"
      ],
      "metadata": {
        "colab": {
          "base_uri": "https://localhost:8080/"
        },
        "id": "lwWHvB4kS5-I",
        "outputId": "63f08a79-cffa-4a7c-9c15-7cb64059ecfd"
      },
      "execution_count": 15,
      "outputs": [
        {
          "output_type": "execute_result",
          "data": {
            "text/plain": [
              "tuple"
            ]
          },
          "metadata": {},
          "execution_count": 15
        }
      ]
    },
    {
      "cell_type": "code",
      "source": [
        "s = {\"Python\", \"Machine Learning\", \"Data Science\"}\n",
        "\n",
        "type(s)"
      ],
      "metadata": {
        "colab": {
          "base_uri": "https://localhost:8080/"
        },
        "id": "rYHFuwOGTCxj",
        "outputId": "dcb035bd-4dc2-4665-c3c0-33b924688006"
      },
      "execution_count": 16,
      "outputs": [
        {
          "output_type": "execute_result",
          "data": {
            "text/plain": [
              "set"
            ]
          },
          "metadata": {},
          "execution_count": 16
        }
      ]
    },
    {
      "cell_type": "code",
      "source": [
        "l = [1, 2, 3, 4, \"String\", 3.2, False]\n",
        "\n",
        "type(l)"
      ],
      "metadata": {
        "colab": {
          "base_uri": "https://localhost:8080/"
        },
        "id": "FVs12aqdUEwr",
        "outputId": "3ef9eebc-7bee-4767-c213-c56ecd3ea48c"
      },
      "execution_count": 18,
      "outputs": [
        {
          "output_type": "execute_result",
          "data": {
            "text/plain": [
              "list"
            ]
          },
          "metadata": {},
          "execution_count": 18
        }
      ]
    },
    {
      "cell_type": "code",
      "source": [
        "# Çözüm 2 : for döngüsüyle\n",
        "\n",
        "x = 8\n",
        "\n",
        "y = 3.2\n",
        "\n",
        "z = 8j + 18\n",
        "\n",
        "a = \"Hello World\"\n",
        "\n",
        "b = True\n",
        "\n",
        "c = 23 < 22\n",
        "\n",
        "l = [1, 2, 3, 4]\n",
        "\n",
        "d = {\"Name\": \"Jake\",\n",
        "     \"Age\": 27,\n",
        "     \"Adress\": \"Downtown\"}\n",
        "t = (\"Machine Learning\", \"Data Science\")\n",
        "\n",
        "s = {\"Python\", \"Machine Learning\", \"Data Science\"}\n",
        "\n",
        "w = [x, y, z, a, b, c, l, d, t, s]\n",
        "\n",
        "for i in w:\n",
        "  print(type(i))\n",
        "\n"
      ],
      "metadata": {
        "colab": {
          "base_uri": "https://localhost:8080/"
        },
        "id": "7rkkoAV3WpEo",
        "outputId": "20690f18-676f-4178-e800-88520aa795e1"
      },
      "execution_count": 27,
      "outputs": [
        {
          "output_type": "stream",
          "name": "stdout",
          "text": [
            "<class 'int'>\n",
            "<class 'float'>\n",
            "<class 'complex'>\n",
            "<class 'str'>\n",
            "<class 'bool'>\n",
            "<class 'bool'>\n",
            "<class 'list'>\n",
            "<class 'dict'>\n",
            "<class 'tuple'>\n",
            "<class 'set'>\n"
          ]
        }
      ]
    },
    {
      "cell_type": "code",
      "source": [],
      "metadata": {
        "id": "-vnh5ZPqhyTG"
      },
      "execution_count": null,
      "outputs": []
    }
  ]
}