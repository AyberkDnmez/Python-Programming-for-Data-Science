{
  "nbformat": 4,
  "nbformat_minor": 0,
  "metadata": {
    "colab": {
      "provenance": [],
      "authorship_tag": "ABX9TyNAv/5QxgZBSe3y3ykHQBCk",
      "include_colab_link": true
    },
    "kernelspec": {
      "name": "python3",
      "display_name": "Python 3"
    },
    "language_info": {
      "name": "python"
    }
  },
  "cells": [
    {
      "cell_type": "markdown",
      "metadata": {
        "id": "view-in-github",
        "colab_type": "text"
      },
      "source": [
        "<a href=\"https://colab.research.google.com/github/AyberkDnmez/Python-Programming-for-Data-Science/blob/main/List_Comprehensions_Al%C4%B1%C5%9Ft%C4%B1rmalar.ipynb\" target=\"_parent\"><img src=\"https://colab.research.google.com/assets/colab-badge.svg\" alt=\"Open In Colab\"/></a>"
      ]
    },
    {
      "cell_type": "code",
      "execution_count": 3,
      "metadata": {
        "colab": {
          "base_uri": "https://localhost:8080/"
        },
        "id": "N2tD39kjXQck",
        "outputId": "b36c4bdd-00d6-4633-cfbc-e8fcebb3e589"
      },
      "outputs": [
        {
          "output_type": "execute_result",
          "data": {
            "text/plain": [
              "['NUM_TOTAL',\n",
              " 'NUM_SPEEDING',\n",
              " 'NUM_ALCOHOL',\n",
              " 'NUM_NOT_DISTRACTED',\n",
              " 'NUM_NO_PREVIOUS',\n",
              " 'NUM_INS_PREMIUM',\n",
              " 'NUM_INS_LOSSES',\n",
              " 'NUM_ABBREV']"
            ]
          },
          "metadata": {},
          "execution_count": 3
        }
      ],
      "source": [
        "# Görev 1 : List Comprehension yapısı kullanarak car_crashes verisindeki numeric değişkenlerin isimlerini\n",
        "\n",
        "# büyük harfe çeviriniz ve başına NUM ekleyiniz.\n",
        "\n",
        "import seaborn as sns\n",
        "df = sns.load_dataset(\"car_crashes\")\n",
        "df.columns\n",
        "\n",
        "[\"NUM_\"+ col.upper() for col in df.columns]"
      ]
    },
    {
      "cell_type": "code",
      "source": [
        "# Görev 2 : List comprehensions yapısı kullanarak car_crashes verisinde isminde \"no\" barındırmayan değişkenlerin isimlerinin sonuna \"FLAG\" yazınız.\n",
        "import seaborn as sns\n",
        "df = sns.load_dataset(\"car_crashes\")\n",
        "df.columns\n",
        "\n",
        "[col.upper() + \"_FLAG\" for col in df.columns if \"NO\" in df.columns]"
      ],
      "metadata": {
        "colab": {
          "base_uri": "https://localhost:8080/"
        },
        "id": "Pz-5eDoBZXAM",
        "outputId": "0bea520d-ca2d-4596-ba01-05389e6b901a"
      },
      "execution_count": 10,
      "outputs": [
        {
          "output_type": "execute_result",
          "data": {
            "text/plain": [
              "[]"
            ]
          },
          "metadata": {},
          "execution_count": 10
        }
      ]
    }
  ]
}